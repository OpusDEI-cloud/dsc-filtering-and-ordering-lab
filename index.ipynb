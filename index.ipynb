{
 "cells": [
  {
   "cell_type": "markdown",
   "metadata": {},
   "source": [
    "# Filtering, Ordering, and Limiting Data with SQL - Lab\n"
   ]
  },
  {
   "cell_type": "markdown",
   "metadata": {},
   "source": [
    "## Introduction\n",
    "In this lab, you will practice writing SQL `SELECT` queries that limit results based on conditions, using `WHERE`, `ORDER BY`, and `LIMIT`."
   ]
  },
  {
   "cell_type": "markdown",
   "metadata": {},
   "source": [
    "## Objectives\n",
    "You will practice the following:\n",
    "\n",
    "* Order the results of your queries by using `ORDER BY` (`ASC` & `DESC`)\n",
    "* Limit the number of records returned by a query using `LIMIT`\n",
    "* Write SQL queries to filter and order results"
   ]
  },
  {
   "cell_type": "markdown",
   "metadata": {},
   "source": [
    "## The Data"
   ]
  },
  {
   "cell_type": "markdown",
   "metadata": {},
   "source": [
    "Here's a database full of famous dogs!  The `dogs` table is populated with the following data:\n",
    "\n",
    "|name      |age    |gender |breed           |temperament|hungry |\n",
    "|----------|-------|-------|----------------|-----------|-------|\n",
    "|Snoopy    |3      |M      |beagle          |friendly   |1      |\n",
    "|McGruff   |10     |M      |bloodhound      |aware      |0      |\n",
    "|Scooby    |6      |M      |great dane      |hungry     |1      |\n",
    "|Little Ann|5      |F      |coonhound       |loyal      |0      |\n",
    "|Pickles   |13     |F      |black lab       |mischievous|1      |\n",
    "|Clifford  |4      |M      |big red         |smiley     |1      |\n",
    "|Lassie    |7      |F      |collie          |loving     |1      |\n",
    "|Snowy     |8      |F      |fox terrier     |adventurous|0      |\n",
    "|NULL      |4      |M      |golden retriever|playful    |1      |"
   ]
  },
  {
   "cell_type": "markdown",
   "metadata": {},
   "source": [
    "## Connecting to the Database\n",
    "\n",
    "In the cell below, import `pandas` and `sqlite3`. Then establish a connection to the database `dogs.db`.\n",
    "\n",
    "Look at all of the data in the table by selecting all columns from the `dogs` table with `pd.read_sql`."
   ]
  },
  {
   "cell_type": "code",
   "execution_count": 1,
   "metadata": {},
   "outputs": [
    {
     "data": {
      "application/vnd.microsoft.datawrangler.viewer.v0+json": {
       "columns": [
        {
         "name": "index",
         "rawType": "int64",
         "type": "integer"
        },
        {
         "name": "id",
         "rawType": "int64",
         "type": "integer"
        },
        {
         "name": "name",
         "rawType": "object",
         "type": "string"
        },
        {
         "name": "age",
         "rawType": "int64",
         "type": "integer"
        },
        {
         "name": "gender",
         "rawType": "object",
         "type": "string"
        },
        {
         "name": "breed",
         "rawType": "object",
         "type": "string"
        },
        {
         "name": "temperament",
         "rawType": "object",
         "type": "string"
        },
        {
         "name": "hungry",
         "rawType": "int64",
         "type": "integer"
        }
       ],
       "conversionMethod": "pd.DataFrame",
       "ref": "5eb6affd-27c4-4622-a335-3d6f5331cbc8",
       "rows": [
        [
         "0",
         "1",
         "Snoopy",
         "3",
         "M",
         "beagle",
         "friendly",
         "1"
        ],
        [
         "1",
         "2",
         "McGruff",
         "10",
         "M",
         "bloodhound",
         "aware",
         "0"
        ],
        [
         "2",
         "3",
         "Scooby",
         "6",
         "M",
         "great dane",
         "hungry",
         "1"
        ],
        [
         "3",
         "4",
         "Little Ann",
         "5",
         "F",
         "coonhound",
         "loyal",
         "0"
        ],
        [
         "4",
         "5",
         "Pickles",
         "13",
         "F",
         "black lab",
         "mischievous",
         "1"
        ],
        [
         "5",
         "6",
         "Clifford",
         "4",
         "M",
         "big red",
         "smiley",
         "1"
        ],
        [
         "6",
         "7",
         "Lassie",
         "7",
         "F",
         "collie",
         "loving",
         "1"
        ],
        [
         "7",
         "8",
         "Snowy",
         "8",
         "F",
         "fox terrier",
         "adventurous",
         "0"
        ],
        [
         "8",
         "9",
         null,
         "4",
         "M",
         "golden retriever",
         "playful",
         "1"
        ]
       ],
       "shape": {
        "columns": 7,
        "rows": 9
       }
      },
      "text/html": [
       "<div>\n",
       "<style scoped>\n",
       "    .dataframe tbody tr th:only-of-type {\n",
       "        vertical-align: middle;\n",
       "    }\n",
       "\n",
       "    .dataframe tbody tr th {\n",
       "        vertical-align: top;\n",
       "    }\n",
       "\n",
       "    .dataframe thead th {\n",
       "        text-align: right;\n",
       "    }\n",
       "</style>\n",
       "<table border=\"1\" class=\"dataframe\">\n",
       "  <thead>\n",
       "    <tr style=\"text-align: right;\">\n",
       "      <th></th>\n",
       "      <th>id</th>\n",
       "      <th>name</th>\n",
       "      <th>age</th>\n",
       "      <th>gender</th>\n",
       "      <th>breed</th>\n",
       "      <th>temperament</th>\n",
       "      <th>hungry</th>\n",
       "    </tr>\n",
       "  </thead>\n",
       "  <tbody>\n",
       "    <tr>\n",
       "      <th>0</th>\n",
       "      <td>1</td>\n",
       "      <td>Snoopy</td>\n",
       "      <td>3</td>\n",
       "      <td>M</td>\n",
       "      <td>beagle</td>\n",
       "      <td>friendly</td>\n",
       "      <td>1</td>\n",
       "    </tr>\n",
       "    <tr>\n",
       "      <th>1</th>\n",
       "      <td>2</td>\n",
       "      <td>McGruff</td>\n",
       "      <td>10</td>\n",
       "      <td>M</td>\n",
       "      <td>bloodhound</td>\n",
       "      <td>aware</td>\n",
       "      <td>0</td>\n",
       "    </tr>\n",
       "    <tr>\n",
       "      <th>2</th>\n",
       "      <td>3</td>\n",
       "      <td>Scooby</td>\n",
       "      <td>6</td>\n",
       "      <td>M</td>\n",
       "      <td>great dane</td>\n",
       "      <td>hungry</td>\n",
       "      <td>1</td>\n",
       "    </tr>\n",
       "    <tr>\n",
       "      <th>3</th>\n",
       "      <td>4</td>\n",
       "      <td>Little Ann</td>\n",
       "      <td>5</td>\n",
       "      <td>F</td>\n",
       "      <td>coonhound</td>\n",
       "      <td>loyal</td>\n",
       "      <td>0</td>\n",
       "    </tr>\n",
       "    <tr>\n",
       "      <th>4</th>\n",
       "      <td>5</td>\n",
       "      <td>Pickles</td>\n",
       "      <td>13</td>\n",
       "      <td>F</td>\n",
       "      <td>black lab</td>\n",
       "      <td>mischievous</td>\n",
       "      <td>1</td>\n",
       "    </tr>\n",
       "    <tr>\n",
       "      <th>5</th>\n",
       "      <td>6</td>\n",
       "      <td>Clifford</td>\n",
       "      <td>4</td>\n",
       "      <td>M</td>\n",
       "      <td>big red</td>\n",
       "      <td>smiley</td>\n",
       "      <td>1</td>\n",
       "    </tr>\n",
       "    <tr>\n",
       "      <th>6</th>\n",
       "      <td>7</td>\n",
       "      <td>Lassie</td>\n",
       "      <td>7</td>\n",
       "      <td>F</td>\n",
       "      <td>collie</td>\n",
       "      <td>loving</td>\n",
       "      <td>1</td>\n",
       "    </tr>\n",
       "    <tr>\n",
       "      <th>7</th>\n",
       "      <td>8</td>\n",
       "      <td>Snowy</td>\n",
       "      <td>8</td>\n",
       "      <td>F</td>\n",
       "      <td>fox terrier</td>\n",
       "      <td>adventurous</td>\n",
       "      <td>0</td>\n",
       "    </tr>\n",
       "    <tr>\n",
       "      <th>8</th>\n",
       "      <td>9</td>\n",
       "      <td>None</td>\n",
       "      <td>4</td>\n",
       "      <td>M</td>\n",
       "      <td>golden retriever</td>\n",
       "      <td>playful</td>\n",
       "      <td>1</td>\n",
       "    </tr>\n",
       "  </tbody>\n",
       "</table>\n",
       "</div>"
      ],
      "text/plain": [
       "   id        name  age gender             breed  temperament  hungry\n",
       "0   1      Snoopy    3      M            beagle     friendly       1\n",
       "1   2     McGruff   10      M        bloodhound        aware       0\n",
       "2   3      Scooby    6      M        great dane       hungry       1\n",
       "3   4  Little Ann    5      F         coonhound        loyal       0\n",
       "4   5     Pickles   13      F         black lab  mischievous       1\n",
       "5   6    Clifford    4      M           big red       smiley       1\n",
       "6   7      Lassie    7      F            collie       loving       1\n",
       "7   8       Snowy    8      F       fox terrier  adventurous       0\n",
       "8   9        None    4      M  golden retriever      playful       1"
      ]
     },
     "execution_count": 1,
     "metadata": {},
     "output_type": "execute_result"
    }
   ],
   "source": [
    "# Your code here; imports, create a connection, select all\n",
    "import sqlite3\n",
    "import pandas as pd\n",
    "\n",
    "# Connect to the SQLite database\n",
    "conn = sqlite3.connect('dogs.db')\n",
    "data= pd.read_sql_query(\"SELECT * FROM dogs\", conn)\n",
    "data"
   ]
  },
  {
   "cell_type": "markdown",
   "metadata": {},
   "source": [
    " "
   ]
  },
  {
   "cell_type": "markdown",
   "metadata": {},
   "source": [
    "## Queries\n",
    "\n",
    "Display the outputs for each of the following query descriptions."
   ]
  },
  {
   "cell_type": "markdown",
   "metadata": {},
   "source": [
    "### Select the name and breed for all female dogs\n",
    "\n",
    "<details>\n",
    "    <summary style=\"cursor: pointer; display: inline\"><h4>Click for hint:</h4></summary>\n",
    "    <p>Use <code>WHERE</code> with the <code>=</code> operator</p>\n",
    "</details>"
   ]
  },
  {
   "cell_type": "code",
   "execution_count": 3,
   "metadata": {},
   "outputs": [
    {
     "data": {
      "application/vnd.microsoft.datawrangler.viewer.v0+json": {
       "columns": [
        {
         "name": "index",
         "rawType": "int64",
         "type": "integer"
        },
        {
         "name": "name",
         "rawType": "object",
         "type": "string"
        },
        {
         "name": "breed",
         "rawType": "object",
         "type": "string"
        }
       ],
       "conversionMethod": "pd.DataFrame",
       "ref": "99fa447b-ac04-4272-a7a5-227ea27b89f1",
       "rows": [
        [
         "0",
         "Little Ann",
         "coonhound"
        ],
        [
         "1",
         "Pickles",
         "black lab"
        ],
        [
         "2",
         "Lassie",
         "collie"
        ],
        [
         "3",
         "Snowy",
         "fox terrier"
        ]
       ],
       "shape": {
        "columns": 2,
        "rows": 4
       }
      },
      "text/html": [
       "<div>\n",
       "<style scoped>\n",
       "    .dataframe tbody tr th:only-of-type {\n",
       "        vertical-align: middle;\n",
       "    }\n",
       "\n",
       "    .dataframe tbody tr th {\n",
       "        vertical-align: top;\n",
       "    }\n",
       "\n",
       "    .dataframe thead th {\n",
       "        text-align: right;\n",
       "    }\n",
       "</style>\n",
       "<table border=\"1\" class=\"dataframe\">\n",
       "  <thead>\n",
       "    <tr style=\"text-align: right;\">\n",
       "      <th></th>\n",
       "      <th>name</th>\n",
       "      <th>breed</th>\n",
       "    </tr>\n",
       "  </thead>\n",
       "  <tbody>\n",
       "    <tr>\n",
       "      <th>0</th>\n",
       "      <td>Little Ann</td>\n",
       "      <td>coonhound</td>\n",
       "    </tr>\n",
       "    <tr>\n",
       "      <th>1</th>\n",
       "      <td>Pickles</td>\n",
       "      <td>black lab</td>\n",
       "    </tr>\n",
       "    <tr>\n",
       "      <th>2</th>\n",
       "      <td>Lassie</td>\n",
       "      <td>collie</td>\n",
       "    </tr>\n",
       "    <tr>\n",
       "      <th>3</th>\n",
       "      <td>Snowy</td>\n",
       "      <td>fox terrier</td>\n",
       "    </tr>\n",
       "  </tbody>\n",
       "</table>\n",
       "</div>"
      ],
      "text/plain": [
       "         name        breed\n",
       "0  Little Ann    coonhound\n",
       "1     Pickles    black lab\n",
       "2      Lassie       collie\n",
       "3       Snowy  fox terrier"
      ]
     },
     "execution_count": 3,
     "metadata": {},
     "output_type": "execute_result"
    }
   ],
   "source": [
    "# Your code here\n",
    "pd.read_sql_query(\"SELECT name, breed FROM dogs WHERE gender='F'\",conn)"
   ]
  },
  {
   "cell_type": "markdown",
   "metadata": {},
   "source": [
    "### Select the number of dogs that do not have a name\n",
    "\n",
    "<details>\n",
    "    <summary style=\"cursor: pointer; display: inline\"><h4>Click for hint:</h4></summary>\n",
    "    <p>Use <code>COUNT</code> and <code>IS NULL</code></p>\n",
    "</details>"
   ]
  },
  {
   "cell_type": "code",
   "execution_count": 12,
   "metadata": {},
   "outputs": [
    {
     "data": {
      "application/vnd.microsoft.datawrangler.viewer.v0+json": {
       "columns": [
        {
         "name": "index",
         "rawType": "int64",
         "type": "integer"
        },
        {
         "name": "COUNT(*)",
         "rawType": "int64",
         "type": "integer"
        }
       ],
       "conversionMethod": "pd.DataFrame",
       "ref": "a27ca98a-efcc-47c3-a6ac-f355aec1e58c",
       "rows": [
        [
         "0",
         "1"
        ]
       ],
       "shape": {
        "columns": 1,
        "rows": 1
       }
      },
      "text/html": [
       "<div>\n",
       "<style scoped>\n",
       "    .dataframe tbody tr th:only-of-type {\n",
       "        vertical-align: middle;\n",
       "    }\n",
       "\n",
       "    .dataframe tbody tr th {\n",
       "        vertical-align: top;\n",
       "    }\n",
       "\n",
       "    .dataframe thead th {\n",
       "        text-align: right;\n",
       "    }\n",
       "</style>\n",
       "<table border=\"1\" class=\"dataframe\">\n",
       "  <thead>\n",
       "    <tr style=\"text-align: right;\">\n",
       "      <th></th>\n",
       "      <th>COUNT(*)</th>\n",
       "    </tr>\n",
       "  </thead>\n",
       "  <tbody>\n",
       "    <tr>\n",
       "      <th>0</th>\n",
       "      <td>1</td>\n",
       "    </tr>\n",
       "  </tbody>\n",
       "</table>\n",
       "</div>"
      ],
      "text/plain": [
       "   COUNT(*)\n",
       "0         1"
      ]
     },
     "execution_count": 12,
     "metadata": {},
     "output_type": "execute_result"
    }
   ],
   "source": [
    "# Your code here\n",
    "pd.read_sql_query(\"SELECT COUNT(*) FROM dogs WHERE name IS NULL\", conn)"
   ]
  },
  {
   "cell_type": "markdown",
   "metadata": {},
   "source": [
    "### Select the names of all dogs that contain the double letters `ff` or `oo`\n",
    "\n",
    "<details>\n",
    "    <summary style=\"cursor: pointer; display: inline\"><h4>Click for hint:</h4></summary>\n",
    "    <p>Use <code>LIKE</code>, <code>%</code>, and <code>OR</code></p>\n",
    "</details>"
   ]
  },
  {
   "cell_type": "code",
   "execution_count": 22,
   "metadata": {},
   "outputs": [
    {
     "data": {
      "application/vnd.microsoft.datawrangler.viewer.v0+json": {
       "columns": [
        {
         "name": "index",
         "rawType": "int64",
         "type": "integer"
        },
        {
         "name": "name",
         "rawType": "object",
         "type": "string"
        }
       ],
       "conversionMethod": "pd.DataFrame",
       "ref": "d3262cee-5b43-4970-9ecb-169f8a3bbd49",
       "rows": [
        [
         "0",
         "Snoopy"
        ],
        [
         "1",
         "McGruff"
        ],
        [
         "2",
         "Scooby"
        ],
        [
         "3",
         "Clifford"
        ]
       ],
       "shape": {
        "columns": 1,
        "rows": 4
       }
      },
      "text/html": [
       "<div>\n",
       "<style scoped>\n",
       "    .dataframe tbody tr th:only-of-type {\n",
       "        vertical-align: middle;\n",
       "    }\n",
       "\n",
       "    .dataframe tbody tr th {\n",
       "        vertical-align: top;\n",
       "    }\n",
       "\n",
       "    .dataframe thead th {\n",
       "        text-align: right;\n",
       "    }\n",
       "</style>\n",
       "<table border=\"1\" class=\"dataframe\">\n",
       "  <thead>\n",
       "    <tr style=\"text-align: right;\">\n",
       "      <th></th>\n",
       "      <th>name</th>\n",
       "    </tr>\n",
       "  </thead>\n",
       "  <tbody>\n",
       "    <tr>\n",
       "      <th>0</th>\n",
       "      <td>Snoopy</td>\n",
       "    </tr>\n",
       "    <tr>\n",
       "      <th>1</th>\n",
       "      <td>McGruff</td>\n",
       "    </tr>\n",
       "    <tr>\n",
       "      <th>2</th>\n",
       "      <td>Scooby</td>\n",
       "    </tr>\n",
       "    <tr>\n",
       "      <th>3</th>\n",
       "      <td>Clifford</td>\n",
       "    </tr>\n",
       "  </tbody>\n",
       "</table>\n",
       "</div>"
      ],
      "text/plain": [
       "       name\n",
       "0    Snoopy\n",
       "1   McGruff\n",
       "2    Scooby\n",
       "3  Clifford"
      ]
     },
     "execution_count": 22,
     "metadata": {},
     "output_type": "execute_result"
    }
   ],
   "source": [
    "# Your code here\n",
    "pd.read_sql_query(\"SELECT name FROM dogs WHERE name LIKE '%ff%' OR name LIKE '%oo%'\", conn)"
   ]
  },
  {
   "cell_type": "markdown",
   "metadata": {},
   "source": [
    "### Select the names of all dogs listed in alphabetical order.  Notice that SQL lists the nameless dog first.\n",
    "\n",
    "<details>\n",
    "    <summary style=\"cursor: pointer; display: inline\"><h4>Click for hint:</h4></summary>\n",
    "    <p>Use <code>ORDER BY</code></p>\n",
    "</details>"
   ]
  },
  {
   "cell_type": "code",
   "execution_count": null,
   "metadata": {},
   "outputs": [
    {
     "data": {
      "application/vnd.microsoft.datawrangler.viewer.v0+json": {
       "columns": [
        {
         "name": "index",
         "rawType": "int64",
         "type": "integer"
        },
        {
         "name": "name",
         "rawType": "object",
         "type": "string"
        }
       ],
       "conversionMethod": "pd.DataFrame",
       "ref": "e79db219-c026-4478-b3af-46309c8fb1fe",
       "rows": [
        [
         "0",
         null
        ],
        [
         "1",
         "Clifford"
        ],
        [
         "2",
         "Lassie"
        ],
        [
         "3",
         "Little Ann"
        ],
        [
         "4",
         "McGruff"
        ],
        [
         "5",
         "Pickles"
        ],
        [
         "6",
         "Scooby"
        ],
        [
         "7",
         "Snoopy"
        ],
        [
         "8",
         "Snowy"
        ]
       ],
       "shape": {
        "columns": 1,
        "rows": 9
       }
      },
      "text/html": [
       "<div>\n",
       "<style scoped>\n",
       "    .dataframe tbody tr th:only-of-type {\n",
       "        vertical-align: middle;\n",
       "    }\n",
       "\n",
       "    .dataframe tbody tr th {\n",
       "        vertical-align: top;\n",
       "    }\n",
       "\n",
       "    .dataframe thead th {\n",
       "        text-align: right;\n",
       "    }\n",
       "</style>\n",
       "<table border=\"1\" class=\"dataframe\">\n",
       "  <thead>\n",
       "    <tr style=\"text-align: right;\">\n",
       "      <th></th>\n",
       "      <th>name</th>\n",
       "    </tr>\n",
       "  </thead>\n",
       "  <tbody>\n",
       "    <tr>\n",
       "      <th>0</th>\n",
       "      <td>None</td>\n",
       "    </tr>\n",
       "    <tr>\n",
       "      <th>1</th>\n",
       "      <td>Clifford</td>\n",
       "    </tr>\n",
       "    <tr>\n",
       "      <th>2</th>\n",
       "      <td>Lassie</td>\n",
       "    </tr>\n",
       "    <tr>\n",
       "      <th>3</th>\n",
       "      <td>Little Ann</td>\n",
       "    </tr>\n",
       "    <tr>\n",
       "      <th>4</th>\n",
       "      <td>McGruff</td>\n",
       "    </tr>\n",
       "    <tr>\n",
       "      <th>5</th>\n",
       "      <td>Pickles</td>\n",
       "    </tr>\n",
       "    <tr>\n",
       "      <th>6</th>\n",
       "      <td>Scooby</td>\n",
       "    </tr>\n",
       "    <tr>\n",
       "      <th>7</th>\n",
       "      <td>Snoopy</td>\n",
       "    </tr>\n",
       "    <tr>\n",
       "      <th>8</th>\n",
       "      <td>Snowy</td>\n",
       "    </tr>\n",
       "  </tbody>\n",
       "</table>\n",
       "</div>"
      ],
      "text/plain": [
       "         name\n",
       "0        None\n",
       "1    Clifford\n",
       "2      Lassie\n",
       "3  Little Ann\n",
       "4     McGruff\n",
       "5     Pickles\n",
       "6      Scooby\n",
       "7      Snoopy\n",
       "8       Snowy"
      ]
     },
     "execution_count": 23,
     "metadata": {},
     "output_type": "execute_result"
    }
   ],
   "source": [
    "# Your code here\n",
    "pd.read_sql_query(\"SELECT name FROM dogs ORDER BY name\", conn)"
   ]
  },
  {
   "cell_type": "markdown",
   "metadata": {},
   "source": [
    "### Select the name and breed of only the hungry dogs and list them from youngest to oldest"
   ]
  },
  {
   "cell_type": "code",
   "execution_count": 26,
   "metadata": {},
   "outputs": [
    {
     "data": {
      "application/vnd.microsoft.datawrangler.viewer.v0+json": {
       "columns": [
        {
         "name": "index",
         "rawType": "int64",
         "type": "integer"
        },
        {
         "name": "name",
         "rawType": "object",
         "type": "string"
        },
        {
         "name": "breed",
         "rawType": "object",
         "type": "string"
        },
        {
         "name": "age",
         "rawType": "int64",
         "type": "integer"
        }
       ],
       "conversionMethod": "pd.DataFrame",
       "ref": "d9da24f7-47fe-4317-800e-abb6852f48c8",
       "rows": [
        [
         "0",
         "Snoopy",
         "beagle",
         "3"
        ],
        [
         "1",
         "Clifford",
         "big red",
         "4"
        ],
        [
         "2",
         null,
         "golden retriever",
         "4"
        ],
        [
         "3",
         "Little Ann",
         "coonhound",
         "5"
        ],
        [
         "4",
         "Scooby",
         "great dane",
         "6"
        ],
        [
         "5",
         "Lassie",
         "collie",
         "7"
        ],
        [
         "6",
         "Snowy",
         "fox terrier",
         "8"
        ],
        [
         "7",
         "McGruff",
         "bloodhound",
         "10"
        ],
        [
         "8",
         "Pickles",
         "black lab",
         "13"
        ]
       ],
       "shape": {
        "columns": 3,
        "rows": 9
       }
      },
      "text/html": [
       "<div>\n",
       "<style scoped>\n",
       "    .dataframe tbody tr th:only-of-type {\n",
       "        vertical-align: middle;\n",
       "    }\n",
       "\n",
       "    .dataframe tbody tr th {\n",
       "        vertical-align: top;\n",
       "    }\n",
       "\n",
       "    .dataframe thead th {\n",
       "        text-align: right;\n",
       "    }\n",
       "</style>\n",
       "<table border=\"1\" class=\"dataframe\">\n",
       "  <thead>\n",
       "    <tr style=\"text-align: right;\">\n",
       "      <th></th>\n",
       "      <th>name</th>\n",
       "      <th>breed</th>\n",
       "      <th>age</th>\n",
       "    </tr>\n",
       "  </thead>\n",
       "  <tbody>\n",
       "    <tr>\n",
       "      <th>0</th>\n",
       "      <td>Snoopy</td>\n",
       "      <td>beagle</td>\n",
       "      <td>3</td>\n",
       "    </tr>\n",
       "    <tr>\n",
       "      <th>1</th>\n",
       "      <td>Clifford</td>\n",
       "      <td>big red</td>\n",
       "      <td>4</td>\n",
       "    </tr>\n",
       "    <tr>\n",
       "      <th>2</th>\n",
       "      <td>None</td>\n",
       "      <td>golden retriever</td>\n",
       "      <td>4</td>\n",
       "    </tr>\n",
       "    <tr>\n",
       "      <th>3</th>\n",
       "      <td>Little Ann</td>\n",
       "      <td>coonhound</td>\n",
       "      <td>5</td>\n",
       "    </tr>\n",
       "    <tr>\n",
       "      <th>4</th>\n",
       "      <td>Scooby</td>\n",
       "      <td>great dane</td>\n",
       "      <td>6</td>\n",
       "    </tr>\n",
       "    <tr>\n",
       "      <th>5</th>\n",
       "      <td>Lassie</td>\n",
       "      <td>collie</td>\n",
       "      <td>7</td>\n",
       "    </tr>\n",
       "    <tr>\n",
       "      <th>6</th>\n",
       "      <td>Snowy</td>\n",
       "      <td>fox terrier</td>\n",
       "      <td>8</td>\n",
       "    </tr>\n",
       "    <tr>\n",
       "      <th>7</th>\n",
       "      <td>McGruff</td>\n",
       "      <td>bloodhound</td>\n",
       "      <td>10</td>\n",
       "    </tr>\n",
       "    <tr>\n",
       "      <th>8</th>\n",
       "      <td>Pickles</td>\n",
       "      <td>black lab</td>\n",
       "      <td>13</td>\n",
       "    </tr>\n",
       "  </tbody>\n",
       "</table>\n",
       "</div>"
      ],
      "text/plain": [
       "         name             breed  age\n",
       "0      Snoopy            beagle    3\n",
       "1    Clifford           big red    4\n",
       "2        None  golden retriever    4\n",
       "3  Little Ann         coonhound    5\n",
       "4      Scooby        great dane    6\n",
       "5      Lassie            collie    7\n",
       "6       Snowy       fox terrier    8\n",
       "7     McGruff        bloodhound   10\n",
       "8     Pickles         black lab   13"
      ]
     },
     "execution_count": 26,
     "metadata": {},
     "output_type": "execute_result"
    }
   ],
   "source": [
    "# Your code here\n",
    "pd.read_sql_query(\"SELECT name, breed, age FROM dogs ORDER BY age\", conn)"
   ]
  },
  {
   "cell_type": "markdown",
   "metadata": {},
   "source": [
    "### Select the oldest dog's name, age, and temperament\n",
    "\n",
    "<details>\n",
    "    <summary style=\"cursor: pointer; display: inline\"><h4>Click for hint:</h4></summary>\n",
    "    <p>Use <code>ORDER BY</code> with <code>LIMIT</code></p>\n",
    "</details>"
   ]
  },
  {
   "cell_type": "code",
   "execution_count": 41,
   "metadata": {},
   "outputs": [
    {
     "data": {
      "application/vnd.microsoft.datawrangler.viewer.v0+json": {
       "columns": [
        {
         "name": "index",
         "rawType": "int64",
         "type": "integer"
        },
        {
         "name": "name",
         "rawType": "object",
         "type": "string"
        },
        {
         "name": "age",
         "rawType": "int64",
         "type": "integer"
        },
        {
         "name": "temperament",
         "rawType": "object",
         "type": "string"
        }
       ],
       "conversionMethod": "pd.DataFrame",
       "ref": "2988e92a-6a96-4e8c-9869-a6d1d9f1f7ea",
       "rows": [
        [
         "0",
         "Pickles",
         "13",
         "mischievous"
        ]
       ],
       "shape": {
        "columns": 3,
        "rows": 1
       }
      },
      "text/html": [
       "<div>\n",
       "<style scoped>\n",
       "    .dataframe tbody tr th:only-of-type {\n",
       "        vertical-align: middle;\n",
       "    }\n",
       "\n",
       "    .dataframe tbody tr th {\n",
       "        vertical-align: top;\n",
       "    }\n",
       "\n",
       "    .dataframe thead th {\n",
       "        text-align: right;\n",
       "    }\n",
       "</style>\n",
       "<table border=\"1\" class=\"dataframe\">\n",
       "  <thead>\n",
       "    <tr style=\"text-align: right;\">\n",
       "      <th></th>\n",
       "      <th>name</th>\n",
       "      <th>age</th>\n",
       "      <th>temperament</th>\n",
       "    </tr>\n",
       "  </thead>\n",
       "  <tbody>\n",
       "    <tr>\n",
       "      <th>0</th>\n",
       "      <td>Pickles</td>\n",
       "      <td>13</td>\n",
       "      <td>mischievous</td>\n",
       "    </tr>\n",
       "  </tbody>\n",
       "</table>\n",
       "</div>"
      ],
      "text/plain": [
       "      name  age  temperament\n",
       "0  Pickles   13  mischievous"
      ]
     },
     "execution_count": 41,
     "metadata": {},
     "output_type": "execute_result"
    }
   ],
   "source": [
    "# Your code here\n",
    "pd.read_sql_query(\"SELECT name, age,temperament FROM dogs ORDER BY age DESC LIMIT 1\", conn)"
   ]
  },
  {
   "cell_type": "markdown",
   "metadata": {},
   "source": [
    "### Select the name and age of the three youngest dogs"
   ]
  },
  {
   "cell_type": "code",
   "execution_count": 42,
   "metadata": {},
   "outputs": [
    {
     "data": {
      "application/vnd.microsoft.datawrangler.viewer.v0+json": {
       "columns": [
        {
         "name": "index",
         "rawType": "int64",
         "type": "integer"
        },
        {
         "name": "name",
         "rawType": "object",
         "type": "string"
        },
        {
         "name": "age",
         "rawType": "int64",
         "type": "integer"
        }
       ],
       "conversionMethod": "pd.DataFrame",
       "ref": "2971cd41-eabd-4271-b8be-6257cd39aed5",
       "rows": [
        [
         "0",
         "Snoopy",
         "3"
        ],
        [
         "1",
         "Clifford",
         "4"
        ],
        [
         "2",
         null,
         "4"
        ]
       ],
       "shape": {
        "columns": 2,
        "rows": 3
       }
      },
      "text/html": [
       "<div>\n",
       "<style scoped>\n",
       "    .dataframe tbody tr th:only-of-type {\n",
       "        vertical-align: middle;\n",
       "    }\n",
       "\n",
       "    .dataframe tbody tr th {\n",
       "        vertical-align: top;\n",
       "    }\n",
       "\n",
       "    .dataframe thead th {\n",
       "        text-align: right;\n",
       "    }\n",
       "</style>\n",
       "<table border=\"1\" class=\"dataframe\">\n",
       "  <thead>\n",
       "    <tr style=\"text-align: right;\">\n",
       "      <th></th>\n",
       "      <th>name</th>\n",
       "      <th>age</th>\n",
       "    </tr>\n",
       "  </thead>\n",
       "  <tbody>\n",
       "    <tr>\n",
       "      <th>0</th>\n",
       "      <td>Snoopy</td>\n",
       "      <td>3</td>\n",
       "    </tr>\n",
       "    <tr>\n",
       "      <th>1</th>\n",
       "      <td>Clifford</td>\n",
       "      <td>4</td>\n",
       "    </tr>\n",
       "    <tr>\n",
       "      <th>2</th>\n",
       "      <td>None</td>\n",
       "      <td>4</td>\n",
       "    </tr>\n",
       "  </tbody>\n",
       "</table>\n",
       "</div>"
      ],
      "text/plain": [
       "       name  age\n",
       "0    Snoopy    3\n",
       "1  Clifford    4\n",
       "2      None    4"
      ]
     },
     "execution_count": 42,
     "metadata": {},
     "output_type": "execute_result"
    }
   ],
   "source": [
    "# Your code here\n",
    "# Your code here\n",
    "pd.read_sql_query(\"SELECT name, age FROM dogs ORDER BY age LIMIT 3\", conn)"
   ]
  },
  {
   "cell_type": "markdown",
   "metadata": {},
   "source": [
    "### Select the name and breed of the dogs who are between five and ten years old, ordered from oldest to youngest\n",
    "\n",
    "<details>\n",
    "    <summary style=\"cursor: pointer; display: inline\"><h4>Click for hint:</h4></summary>\n",
    "    <p>Use <code>WHERE</code> with <code>BETWEEN</code></p>\n",
    "</details>"
   ]
  },
  {
   "cell_type": "code",
   "execution_count": 49,
   "metadata": {},
   "outputs": [
    {
     "data": {
      "application/vnd.microsoft.datawrangler.viewer.v0+json": {
       "columns": [
        {
         "name": "index",
         "rawType": "int64",
         "type": "integer"
        },
        {
         "name": "name",
         "rawType": "object",
         "type": "string"
        },
        {
         "name": "breed",
         "rawType": "object",
         "type": "string"
        },
        {
         "name": "age",
         "rawType": "int64",
         "type": "integer"
        }
       ],
       "conversionMethod": "pd.DataFrame",
       "ref": "eb20b60d-c495-4341-911a-68b837507b0a",
       "rows": [
        [
         "0",
         "McGruff",
         "bloodhound",
         "10"
        ],
        [
         "1",
         "Snowy",
         "fox terrier",
         "8"
        ],
        [
         "2",
         "Lassie",
         "collie",
         "7"
        ],
        [
         "3",
         "Scooby",
         "great dane",
         "6"
        ],
        [
         "4",
         "Little Ann",
         "coonhound",
         "5"
        ]
       ],
       "shape": {
        "columns": 3,
        "rows": 5
       }
      },
      "text/html": [
       "<div>\n",
       "<style scoped>\n",
       "    .dataframe tbody tr th:only-of-type {\n",
       "        vertical-align: middle;\n",
       "    }\n",
       "\n",
       "    .dataframe tbody tr th {\n",
       "        vertical-align: top;\n",
       "    }\n",
       "\n",
       "    .dataframe thead th {\n",
       "        text-align: right;\n",
       "    }\n",
       "</style>\n",
       "<table border=\"1\" class=\"dataframe\">\n",
       "  <thead>\n",
       "    <tr style=\"text-align: right;\">\n",
       "      <th></th>\n",
       "      <th>name</th>\n",
       "      <th>breed</th>\n",
       "      <th>age</th>\n",
       "    </tr>\n",
       "  </thead>\n",
       "  <tbody>\n",
       "    <tr>\n",
       "      <th>0</th>\n",
       "      <td>McGruff</td>\n",
       "      <td>bloodhound</td>\n",
       "      <td>10</td>\n",
       "    </tr>\n",
       "    <tr>\n",
       "      <th>1</th>\n",
       "      <td>Snowy</td>\n",
       "      <td>fox terrier</td>\n",
       "      <td>8</td>\n",
       "    </tr>\n",
       "    <tr>\n",
       "      <th>2</th>\n",
       "      <td>Lassie</td>\n",
       "      <td>collie</td>\n",
       "      <td>7</td>\n",
       "    </tr>\n",
       "    <tr>\n",
       "      <th>3</th>\n",
       "      <td>Scooby</td>\n",
       "      <td>great dane</td>\n",
       "      <td>6</td>\n",
       "    </tr>\n",
       "    <tr>\n",
       "      <th>4</th>\n",
       "      <td>Little Ann</td>\n",
       "      <td>coonhound</td>\n",
       "      <td>5</td>\n",
       "    </tr>\n",
       "  </tbody>\n",
       "</table>\n",
       "</div>"
      ],
      "text/plain": [
       "         name        breed  age\n",
       "0     McGruff   bloodhound   10\n",
       "1       Snowy  fox terrier    8\n",
       "2      Lassie       collie    7\n",
       "3      Scooby   great dane    6\n",
       "4  Little Ann    coonhound    5"
      ]
     },
     "execution_count": 49,
     "metadata": {},
     "output_type": "execute_result"
    }
   ],
   "source": [
    "# Your code here\n",
    "pd.read_sql_query(\"SELECT name, breed,age FROM dogs WHERE age BETWEEN 5 AND 10 ORDER BY age DESC\", conn)"
   ]
  },
  {
   "cell_type": "markdown",
   "metadata": {},
   "source": [
    "### Select the name, age, and hungry columns for hungry dogs between the ages of two and seven.  This query should also list these dogs in alphabetical order."
   ]
  },
  {
   "cell_type": "code",
   "execution_count": 51,
   "metadata": {},
   "outputs": [
    {
     "data": {
      "application/vnd.microsoft.datawrangler.viewer.v0+json": {
       "columns": [
        {
         "name": "index",
         "rawType": "int64",
         "type": "integer"
        },
        {
         "name": "name",
         "rawType": "object",
         "type": "string"
        },
        {
         "name": "age",
         "rawType": "int64",
         "type": "integer"
        },
        {
         "name": "hungry",
         "rawType": "int64",
         "type": "integer"
        }
       ],
       "conversionMethod": "pd.DataFrame",
       "ref": "64c8d24f-8717-4185-8a82-54c29ddbfd4f",
       "rows": [
        [
         "0",
         null,
         "4",
         "1"
        ],
        [
         "1",
         "Clifford",
         "4",
         "1"
        ],
        [
         "2",
         "Lassie",
         "7",
         "1"
        ],
        [
         "3",
         "Scooby",
         "6",
         "1"
        ],
        [
         "4",
         "Snoopy",
         "3",
         "1"
        ]
       ],
       "shape": {
        "columns": 3,
        "rows": 5
       }
      },
      "text/html": [
       "<div>\n",
       "<style scoped>\n",
       "    .dataframe tbody tr th:only-of-type {\n",
       "        vertical-align: middle;\n",
       "    }\n",
       "\n",
       "    .dataframe tbody tr th {\n",
       "        vertical-align: top;\n",
       "    }\n",
       "\n",
       "    .dataframe thead th {\n",
       "        text-align: right;\n",
       "    }\n",
       "</style>\n",
       "<table border=\"1\" class=\"dataframe\">\n",
       "  <thead>\n",
       "    <tr style=\"text-align: right;\">\n",
       "      <th></th>\n",
       "      <th>name</th>\n",
       "      <th>age</th>\n",
       "      <th>hungry</th>\n",
       "    </tr>\n",
       "  </thead>\n",
       "  <tbody>\n",
       "    <tr>\n",
       "      <th>0</th>\n",
       "      <td>None</td>\n",
       "      <td>4</td>\n",
       "      <td>1</td>\n",
       "    </tr>\n",
       "    <tr>\n",
       "      <th>1</th>\n",
       "      <td>Clifford</td>\n",
       "      <td>4</td>\n",
       "      <td>1</td>\n",
       "    </tr>\n",
       "    <tr>\n",
       "      <th>2</th>\n",
       "      <td>Lassie</td>\n",
       "      <td>7</td>\n",
       "      <td>1</td>\n",
       "    </tr>\n",
       "    <tr>\n",
       "      <th>3</th>\n",
       "      <td>Scooby</td>\n",
       "      <td>6</td>\n",
       "      <td>1</td>\n",
       "    </tr>\n",
       "    <tr>\n",
       "      <th>4</th>\n",
       "      <td>Snoopy</td>\n",
       "      <td>3</td>\n",
       "      <td>1</td>\n",
       "    </tr>\n",
       "  </tbody>\n",
       "</table>\n",
       "</div>"
      ],
      "text/plain": [
       "       name  age  hungry\n",
       "0      None    4       1\n",
       "1  Clifford    4       1\n",
       "2    Lassie    7       1\n",
       "3    Scooby    6       1\n",
       "4    Snoopy    3       1"
      ]
     },
     "execution_count": 51,
     "metadata": {},
     "output_type": "execute_result"
    }
   ],
   "source": [
    "# Your code here\n",
    "pd.read_sql_query(\"SELECT name,age, hungry FROM dogs WHERE hungry = 1 AND age BETWEEN 2 AND 7 ORDER BY name\", conn)"
   ]
  },
  {
   "cell_type": "markdown",
   "metadata": {},
   "source": [
    "## Close the Database Connection"
   ]
  },
  {
   "cell_type": "code",
   "execution_count": 52,
   "metadata": {},
   "outputs": [],
   "source": [
    "# Your code here\n",
    "conn.close()"
   ]
  },
  {
   "cell_type": "markdown",
   "metadata": {},
   "source": [
    "## Summary"
   ]
  },
  {
   "cell_type": "markdown",
   "metadata": {},
   "source": [
    "Great work! In this lab you practiced writing more complex SQL statements to not only query specific information but also define the quantity and order of your results. "
   ]
  }
 ],
 "metadata": {
  "kernelspec": {
   "display_name": "learn-env",
   "language": "python",
   "name": "python3"
  },
  "language_info": {
   "codemirror_mode": {
    "name": "ipython",
    "version": 3
   },
   "file_extension": ".py",
   "mimetype": "text/x-python",
   "name": "python",
   "nbconvert_exporter": "python",
   "pygments_lexer": "ipython3",
   "version": "3.8.5"
  },
  "toc": {
   "base_numbering": 1,
   "nav_menu": {},
   "number_sections": true,
   "sideBar": true,
   "skip_h1_title": false,
   "title_cell": "Table of Contents",
   "title_sidebar": "Contents",
   "toc_cell": false,
   "toc_position": {},
   "toc_section_display": true,
   "toc_window_display": false
  }
 },
 "nbformat": 4,
 "nbformat_minor": 2
}
